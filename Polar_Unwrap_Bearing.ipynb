{
  "cells": [
    {
      "cell_type": "code",
      "execution_count": null,
      "metadata": {
        "id": "AyFcINgnNVVN"
      },
      "outputs": [],
      "source": [
        "import cv2  # used to load and show image\n",
        "import numpy as np\n",
        "from matplotlib import pyplot as plt\n",
        "from scipy import stats\n",
        "from time import perf_counter\n",
        "from google.colab import files"
      ]
    },
    {
      "cell_type": "code",
      "execution_count": null,
      "metadata": {
        "colab": {
          "base_uri": "https://localhost:8080/",
          "height": 73
        },
        "id": "bGH2y6gypOlB",
        "outputId": "4a4a1cbf-5200-4da7-9cc5-398fa1451028"
      },
      "outputs": [],
      "source": [
        "uploaded = files.upload() # Dowload bearing.bmp from github and upload."
      ]
    },
    {
      "cell_type": "code",
      "execution_count": null,
      "metadata": {
        "id": "4xvS47AgO9U0"
      },
      "outputs": [],
      "source": [
        "\n",
        "\n",
        "\n",
        "# Numpy Definitions\n",
        "# linspace - Return evenly spaced numbers over a specified interval. (floats)\n",
        "# arange - Return  evenly spaced values within a given interval (Integer)\n",
        "# meshgrid - Return coordinate matrices from coordinate vectors (arrays).\n",
        "#       - Make N-D coordinate arrays for vectorized evaluations of N-D scalar/vector fields over N-D\n",
        "#       grids, given one-dimensional coordinate arrays x1, x2,…, xn.\n",
        "\n",
        "\n",
        "# Convert Polar to Cartesian coordinates ((r, theta) -> (x,y))\n",
        "# ^\n",
        "# |-----* P(x,y) = P(r,theta)      x = r * cos(theta) + Center offset\n",
        "# |    /|                          y = r * sin(theta) + Center offset\n",
        "# | r / |                          r: radius\n",
        "# |  /  |                          C: Center/Origin\n",
        "# | /   |\n",
        "# |/)___|_____________>\n",
        "# C        theta\n",
        "def convert(r, theta, c):\n",
        "    x = r * np.cos(theta) + c[0]\n",
        "    y = r * np.sin(theta) + c[1]\n",
        "    return x, y\n",
        "\n",
        "\n",
        "def polar_remap(image, point, radians, min_radius, max_radius, CCW, flip):\n",
        "    # 1) meshgrid parameter 1: Create an array with intervals from 0 to 2PI spread out over the Circumference of\n",
        "    # circle.\n",
        "    # 2) meshgrid parameter 2: Create an array with intervals from starting radius to final radius.\n",
        "    # 3) theta, r = np.meshgrid(y,x) meshgrid returns 2 grids of angles and radius.\n",
        "    # 4) Unwrap clockwise or counter-clockwise - Change angle interval in meshgrid from 0, 2PI to 2PI, 0\n",
        "    # 5) Flip unwrap by setting radius start=min_radius, stop=max_radius, step = 1 OR start=max_radius, stop=min_radius, step = -1\n",
        "\n",
        "    #theta, r = np.meshgrid(np.linspace(0, 2 * np.pi, radians), np.arange(start=max_radius, stop=min_radius, step=-1, dtype=int), indexing='xy')\n",
        "\n",
        "    if(CCW):\n",
        "      theta = np.linspace(2 * np.pi, 0, radians)[None, :].astype('float32')\n",
        "    else:\n",
        "      theta = np.linspace(0, 2 * np.pi, radians)[None, :].astype('float32')\n",
        "\n",
        "    if(flip):\n",
        "      r = np.arange(start=min_radius, stop=max_radius, step=1, dtype=int)[:,None].astype('float32')\n",
        "    else:\n",
        "      r = np.arange(start=max_radius, stop=min_radius, step=-1, dtype=int)[:,None].astype('float32')\n",
        "    #OPTIMIZATIONS\n",
        "    #remove meshgrid - expensive operation. used another method of creating same matrices\n",
        "    # add astype to initialization rather than conversion afterwards.\n",
        "    #removed function.\n",
        "    #used np.pi instead of math.pi\n",
        "    #Added remap for interpolation. Increased quality with different interpolation methods and same speed. Linear is bicubic with best performace to quality.\n",
        "    #\n",
        "    # Create X and Y maps for remap function. \n",
        "    x_map, y_map = convert(r, theta, point)\n",
        "\n",
        "    dst = cv2.remap(image, x_map, y_map, cv2.INTER_LINEAR)\n",
        "\n",
        "    return dst"
      ]
    },
    {
      "cell_type": "code",
      "execution_count": null,
      "metadata": {
        "colab": {
          "base_uri": "https://localhost:8080/",
          "height": 164
        },
        "id": "oYQDOPhwPD_2",
        "outputId": "514e40b5-e254-4cde-a97a-28b6c8befd21"
      },
      "outputs": [
        {
          "name": "stdout",
          "output_type": "stream",
          "text": [
            "Iterations: 100\n",
            "Execution Time minimum (ms): 0.8539099999325117\n",
            "Execution Time maximum (ms): 3.252388999953837\n",
            "Execution Time Average (ms): 0.9793727799888075\n",
            "Execution Time Average(Trimmed) (ms): 0.890373633311962\n"
          ]
        },
        {
          "data": {
            "image/png": "[encoded data removed]",
            "text/plain": [
              "<Figure size 432x288 with 1 Axes>"
            ]
          },
          "metadata": {
            "needs_background": "light"
          },
          "output_type": "display_data"
        }
      ],
      "source": [
        "def Average(lst):\n",
        "  return sum(lst) / len(lst)\n",
        "\n",
        "if __name__ == '__main__':\n",
        "    center = (658, 531)  # Center of object to be unwrapped.\n",
        "    outer_radius = 225  # Outer radius of object.\n",
        "    inner_radius = 120\n",
        "    circumference = int(2 * outer_radius * np.pi)  # calculate circumference of circle from radius variable.\n",
        "\n",
        "    img = cv2.imread('bearing.bmp', 0)  # read image from file\n",
        "\n",
        "    iterations = 100\n",
        "    results = []\n",
        "    for _ in range(iterations):\n",
        "      t0 = time.perf_counter()  # time before executing\n",
        "      polar = polar_remap(img, center, circumference, inner_radius, outer_radius, CCW = False, flip = False)  # polar unwrap function\n",
        "      t1 = time.perf_counter()  # time after executing\n",
        "\n",
        "      execution_time = t1 - t0 \n",
        "      results.append(execution_time * 1000);\n",
        "      #print(\"%.4f\" % execution_time + \"ms\")  # print execution time to console. Sometimes execution is 0.0000ms due to caching?\n",
        "\n",
        "    print(\"Iterations: \" + str(iterations))\n",
        "    print(\"Execution Time minimum (ms): \" + str(min(results)))\n",
        "    print(\"Execution Time maximum (ms): \" + str(max(results)))\n",
        "    print(\"Execution Time Average (ms): \" + str(Average(results)))\n",
        "    print(\"Execution Time Average(Trimmed) (ms): \" + str(stats.trim_mean(results, 0.2)))\n",
        "\n",
        "    cv2.imwrite(\"unwrap.png\", polar, params=None)  # save unwrap image to file.\n",
        "    plt.imshow(polar, cmap='gray')\n",
        "    plt.show()  # show unwrapped image in new window.\n",
        "    cv2.waitKey()  # wait for user input (keeps console open)"
      ]
    }
  ],
  "metadata": {
    "colab": {
      "provenance": []
    },
    "kernelspec": {
      "display_name": "Python 3",
      "name": "python3"
    },
    "language_info": {
      "name": "python"
    }
  },
  "nbformat": 4,
  "nbformat_minor": 0
}
